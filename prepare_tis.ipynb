{
 "cells": [
  {
   "cell_type": "code",
   "execution_count": 2,
   "id": "b3b614ed-984d-4b27-941f-854bbdc8f0af",
   "metadata": {},
   "outputs": [],
   "source": [
    "import mdtraj as md\n",
    "import pyemma as pm\n",
    "\n",
    "from pathlib import Path\n",
    "import os\n",
    "import pickle\n",
    "import pandas \n",
    "import numpy as np\n",
    "\n",
    "from openmm import app\n",
    "import openmm as mm\n",
    "import openmm.unit as unit\n",
    "import openmmtools\n",
    "\n",
    "import openpathsampling as ops\n",
    "import openpathsampling.engines.openmm as ops_openmm\n",
    "from openpathsampling.engines.openmm.tools import ops_load_trajectory\n",
    "from openpathsampling.engines.openmm import trajectory_from_mdtraj"
   ]
  },
  {
   "cell_type": "code",
   "execution_count": 25,
   "id": "584513c9-2ce4-4d18-88ef-57671ccbefa3",
   "metadata": {},
   "outputs": [],
   "source": [
    "# Paths\n",
    "title = 'CLN_tis_test'\n",
    "model_path = Path('./data/CLN_msm/')\n",
    "md_path = Path('./data/init_paths/CLN_md/')\n",
    "old_storage_path = Path('./data/CLN_tica-cv-2_tps/CLN_tica-cv-2_tps.nc')\n",
    "storage_path = Path(f'./data/{title}')\n",
    "storage_path.mkdir(parents=True, exist_ok=True)\n",
    "\n",
    "# Parameters\n",
    "f_scheme = 'ca'\n",
    "n_mcsteps = 10000"
   ]
  },
  {
   "cell_type": "code",
   "execution_count": 11,
   "id": "6b932a25-6904-4fd9-9b9f-fceee902b2b5",
   "metadata": {},
   "outputs": [],
   "source": [
    "# Read tica_mod, kmeans_mod, and msm\n",
    "\n",
    "with open(os.path.join(model_path, 'msm_models'), 'rb') as f:\n",
    "    models = pickle.load(f)\n",
    "tica_mod = models['tica_mod']\n",
    "kmeans_mod = models['kmeans_mod']\n",
    "msm = models['msm']"
   ]
  },
  {
   "cell_type": "code",
   "execution_count": 17,
   "id": "3442e89a-9473-440e-b786-bd5478c03585",
   "metadata": {},
   "outputs": [],
   "source": [
    "#%%writefile $storage_path/cvs.py\n",
    "# Prepare CV functions\n",
    "\n",
    "def tica_cv(snapshot, tica_mod, f_scheme, element):\n",
    "    import openpathsampling as ops\n",
    "    import mdtraj as md\n",
    "    \n",
    "    traj = ops.engines.Trajectory([snapshot]).to_mdtraj()\n",
    "    traj.remove_solvent(inplace=True)\n",
    "    \n",
    "    f_traj = md.compute_contacts(traj, scheme=f_scheme)[0]\n",
    "    tica_traj = tica_mod.transform(f_traj)[0]\n",
    "    return tica_traj[element]\n",
    "\n",
    "def circle(snapshot, tica_1, tica_2, center):\n",
    "    import math\n",
    "    return math.sqrt((tica_1(snapshot)-center[0])**2 + (tica_2(snapshot)-center[1])**2)"
   ]
  },
  {
   "cell_type": "code",
   "execution_count": 19,
   "id": "a668c55d-9544-4a72-a662-435821d6f0ef",
   "metadata": {},
   "outputs": [],
   "source": [
    "# Prepare CVs\n",
    "# Define the intersection of volumes using tics\n",
    "\n",
    "tica_1 = ops.CoordinateFunctionCV(\"tica_1\", tica_cv,\n",
    "                                  tica_mod=tica_mod,\n",
    "                                  f_scheme=f_scheme,\n",
    "                                  element=0)\n",
    "\n",
    "tica_2 = ops.CoordinateFunctionCV(\"tica_2\", tica_cv,\n",
    "                                  tica_mod=tica_mod,\n",
    "                                  f_scheme=f_scheme,\n",
    "                                  element=1)\n",
    "\n",
    "circle_folded = ops.CoordinateFunctionCV('circle_folded', circle,\n",
    "                                         tica_1=tica_1,\n",
    "                                         tica_2=tica_2,\n",
    "                                         center=[-0.5,0])\n",
    "\n",
    "circle_unfolded = ops.CoordinateFunctionCV('circle_unfolded', circle,\n",
    "                                           tica_1=tica_1,\n",
    "                                           tica_2=tica_2,\n",
    "                                           center=[2,0])\n",
    "\n",
    "# Define metastable state hypervolumes\n",
    "folded = ops.volume.CVDefinedVolume(collectivevariable=circle_folded, lambda_min=0.0, lambda_max=0.2).named('folded')\n",
    "unfolded =ops.volume.CVDefinedVolume(collectivevariable=circle_unfolded, lambda_min=0.0, lambda_max=0.3).named('unfolded')\n",
    "\n",
    "itfc_folded = ops.VolumeInterfaceSet(cv=circle_folded, minvals=0.0, maxvals=[0.2, 0.5, 0.8])\n",
    "itfc_unfolded = ops.VolumeInterfaceSet(cv=circle_unfolded, minvals=0.0, maxvals=[0.3, 0.75, 1.2])"
   ]
  },
  {
   "cell_type": "code",
   "execution_count": 14,
   "id": "9f462d4d-d3ee-49ba-8958-13127c9f58ed",
   "metadata": {},
   "outputs": [],
   "source": [
    "gro = app.GromacsGroFile(os.path.join(md_path, 'nvt.gro'))\n",
    "# Gmx topology only stores reference to ff definitions. Need to specifty the directory contains ff files.\n",
    "top = app.GromacsTopFile(os.path.join(md_path, 'topol.top'), \n",
    "                         periodicBoxVectors=gro.getPeriodicBoxVectors(),\n",
    "                         includeDir=r'/home/rzhu/Loc/gromacs/share/gromacs/top')\n",
    "\n",
    "# Create system from gmx files\n",
    "system = top.createSystem(nonbondedMethod=app.PME,\n",
    "                          nonbondedCutoff=1.0*unit.nanometers,\n",
    "                          constraints=app.HBonds, \n",
    "                          rigidWater=True,\n",
    "                          ewaldErrorTolerance=0.0005)\n",
    "\n",
    "# Velocity-Verlet with Velocity Randomisation Integrator that simulates Langvein dynamics\n",
    "integrator = openmmtools.integrators.VVVRIntegrator(\n",
    "    # Temperature\n",
    "    340*unit.kelvin,\n",
    "    # Collision rate (temperature coupling time constant)\n",
    "    1.0/unit.picoseconds,\n",
    "    # Timestep\n",
    "    2.0*unit.femtoseconds\n",
    ")\n",
    "integrator.setConstraintTolerance(0.00001)"
   ]
  },
  {
   "cell_type": "code",
   "execution_count": 15,
   "id": "287bd3e8-0e9c-4bde-93e9-5fad207e7162",
   "metadata": {},
   "outputs": [],
   "source": [
    "# Parallelisation may slow down simulation. It's dependent on the system size (the larger the better), connection speed between gpus (nv>>pcie), gpu power,\n",
    "# and specific forces. \n",
    "\n",
    "openmm_properties = {'DeviceIndex':'2'}\n",
    "platform = mm.openmm.Platform.getPlatformByName('CUDA')\n",
    "engine_options = {\n",
    "    # Allowed returned traj frames\n",
    "    'n_frames_max': 1000,\n",
    "    # Time interval between frames = 1 ps\n",
    "    'n_steps_per_frame': 500\n",
    "}\n",
    "ops_topology = ops_openmm.tools.topology_from_pdb(os.path.join(md_path, 'nvt.gro'))\n",
    "engine = ops_openmm.Engine(\n",
    "    topology=ops_topology, \n",
    "    system=system, \n",
    "    integrator=integrator, \n",
    "    openmm_properties=openmm_properties,\n",
    "    options=engine_options\n",
    ").named('CLN_Openmm_engine')\n",
    "engine.initialize(platform)"
   ]
  },
  {
   "cell_type": "code",
   "execution_count": 23,
   "id": "fd1fb97c-0dd5-4f51-8e26-cbf7377d7fec",
   "metadata": {},
   "outputs": [],
   "source": [
    "outers = ops.MSOuterTISInterface.from_lambdas({itfc_folded: 1, \n",
    "                                               itfc_unfolded: 1.5})\n",
    "\n",
    "network = ops.MSTISNetwork([(folded, itfc_folded),\n",
    "                            (unfolded, itfc_unfolded)],\n",
    "                            ms_outers=outers).named(\"CLN_tis_network\")"
   ]
  },
  {
   "cell_type": "code",
   "execution_count": null,
   "id": "91ba1720-ed01-4025-8e3f-2818c14ce52e",
   "metadata": {},
   "outputs": [],
   "source": [
    "ops.MSTISNetwork()"
   ]
  },
  {
   "cell_type": "markdown",
   "id": "80984a6f-dda5-4279-ae29-ebeef3e42b59",
   "metadata": {},
   "source": [
    "---\n",
    "Perform a short equilibration"
   ]
  },
  {
   "cell_type": "code",
   "execution_count": 29,
   "id": "8bd0da1b-ea49-491a-ba95-36ebf1bce2bb",
   "metadata": {},
   "outputs": [],
   "source": [
    "equilibratoin_scheme = ops.OneWayShootingMoveScheme(network=network, \n",
    "                                      selector=ops.UniformSelector(),\n",
    "                                      engine=engine).named(\"equilibration_scheme\")"
   ]
  },
  {
   "cell_type": "code",
   "execution_count": 27,
   "id": "d2f0d37d-0b0e-4a8a-b4e1-1d36db3eae57",
   "metadata": {},
   "outputs": [
    {
     "ename": "NameError",
     "evalue": "name 'equil_scheme' is not defined",
     "output_type": "error",
     "traceback": [
      "\u001b[0;31m---------------------------------------------------------------------------\u001b[0m",
      "\u001b[0;31mNameError\u001b[0m                                 Traceback (most recent call last)",
      "Cell \u001b[0;32mIn[27], line 5\u001b[0m\n\u001b[1;32m      2\u001b[0m template \u001b[38;5;241m=\u001b[39m old_storage\u001b[38;5;241m.\u001b[39msnapshots[\u001b[38;5;241m0\u001b[39m]\n\u001b[1;32m      3\u001b[0m old_sampleset \u001b[38;5;241m=\u001b[39m old_storage\u001b[38;5;241m.\u001b[39msamplesets[\u001b[38;5;241m0\u001b[39m]\n\u001b[0;32m----> 5\u001b[0m sset \u001b[38;5;241m=\u001b[39m \u001b[43mequil_scheme\u001b[49m\u001b[38;5;241m.\u001b[39minitial_conditions_from_trajectories(trajectories\u001b[38;5;241m=\u001b[39m[s\u001b[38;5;241m.\u001b[39mtrajectory \u001b[38;5;28;01mfor\u001b[39;00m s \u001b[38;5;129;01min\u001b[39;00m old_sampleset\u001b[38;5;241m.\u001b[39msamples])\n",
      "\u001b[0;31mNameError\u001b[0m: name 'equil_scheme' is not defined"
     ]
    }
   ],
   "source": [
    "old_storage = ops.AnalysisStorage(old_storage_path)\n",
    "template = old_storage.snapshots[0]\n",
    "old_sampleset = old_storage.samplesets[0]"
   ]
  },
  {
   "cell_type": "code",
   "execution_count": 30,
   "id": "edf7792c-5525-4a29-bcc4-508b12225cca",
   "metadata": {},
   "outputs": [
    {
     "name": "stdout",
     "output_type": "stream",
     "text": [
      "Missing ensembles:\n",
      "*  [Out folded 0]\n",
      "*  [Out folded 1]\n",
      "*  [Out folded 2]\n",
      "*  [Out unfolded 0]\n",
      "*  [Out unfolded 1]\n",
      "*  [Out unfolded 2]\n",
      "No extra ensembles.\n"
     ]
    }
   ],
   "source": [
    "sset = equilibratoin_scheme.initial_conditions_from_trajectories(trajectories=[s.trajectory for s in old_sampleset.samples])"
   ]
  },
  {
   "cell_type": "code",
   "execution_count": null,
   "id": "8493f2b6-7e4f-484d-83b7-29f09882529b",
   "metadata": {},
   "outputs": [],
   "source": []
  }
 ],
 "metadata": {
  "kernelspec": {
   "display_name": "Python 3 (ipykernel)",
   "language": "python",
   "name": "python3"
  },
  "language_info": {
   "codemirror_mode": {
    "name": "ipython",
    "version": 3
   },
   "file_extension": ".py",
   "mimetype": "text/x-python",
   "name": "python",
   "nbconvert_exporter": "python",
   "pygments_lexer": "ipython3",
   "version": "3.8.16"
  }
 },
 "nbformat": 4,
 "nbformat_minor": 5
}

{
 "cells": [
  {
   "cell_type": "code",
   "execution_count": 1,
   "id": "f996128f-71d7-4096-abd1-3346b80e78dc",
   "metadata": {},
   "outputs": [],
   "source": [
    "import mdtraj as md\n",
    "import pyemma as pm\n",
    "\n",
    "from pathlib import Path\n",
    "import os\n",
    "import pickle\n",
    "import pandas \n",
    "import numpy as np\n",
    "\n",
    "from openmm import app\n",
    "import openmm as mm\n",
    "import openmm.unit as unit\n",
    "import openmmtools\n",
    "\n",
    "import openpathsampling as ops\n",
    "import openpathsampling.engines.openmm as ops_openmm\n",
    "from openpathsampling.engines.openmm.tools import ops_load_trajectory\n",
    "from openpathsampling.engines.openmm import trajectory_from_mdtraj"
   ]
  },
  {
   "cell_type": "code",
   "execution_count": 27,
   "id": "7c8d1ed1-1a99-4ac8-b318-fbcd889e7205",
   "metadata": {},
   "outputs": [],
   "source": [
    "# Paths\n",
    "title = 'CLN_circle_tps'\n",
    "model_path = Path('./data/CLN_msm/')\n",
    "md_path = Path('./data/init_paths/CLN_md/')\n",
    "storage_path = Path(f'./data/{title}')\n",
    "storage_path.mkdir(parents=True, exist_ok=True)\n",
    "\n",
    "# Parameters\n",
    "f_scheme = 'ca'\n",
    "n_mcsteps = 10000"
   ]
  },
  {
   "cell_type": "code",
   "execution_count": 3,
   "id": "3a8c73a3-21d3-4bbf-8923-fb719d5244df",
   "metadata": {},
   "outputs": [],
   "source": [
    "# Read tica_mod, kmeans_mod, and msm\n",
    "\n",
    "with open(os.path.join(model_path, 'msm_models'), 'rb') as f:\n",
    "    models = pickle.load(f)\n",
    "tica_mod = models['tica_mod']\n",
    "kmeans_mod = models['kmeans_mod']\n",
    "msm = models['msm']"
   ]
  },
  {
   "cell_type": "code",
   "execution_count": 6,
   "id": "10ccfb83-87a8-4a9a-9698-0e53661f6a42",
   "metadata": {},
   "outputs": [],
   "source": [
    "#%%writefile $storage_path/cvs.py\n",
    "# Prepare CV functions\n",
    "\n",
    "def tica_cv(snapshot, tica_mod, f_scheme, element):\n",
    "    import openpathsampling as ops\n",
    "    import mdtraj as md\n",
    "    \n",
    "    traj = ops.engines.Trajectory([snapshot]).to_mdtraj()\n",
    "    traj.remove_solvent(inplace=True)\n",
    "    \n",
    "    f_traj = md.compute_contacts(traj, scheme=f_scheme)[0]\n",
    "    tica_traj = tica_mod.transform(f_traj)[0]\n",
    "    return tica_traj[element]\n",
    "\n",
    "def circle(snapshot, tica_1, tica_2, center):\n",
    "    import math\n",
    "    return math.sqrt((tica_1(snapshot)-center[0])**2 + (tica_2(snapshot)-center[1])**2)"
   ]
  },
  {
   "cell_type": "code",
   "execution_count": 7,
   "id": "dcf6b611-ad81-467a-80ab-d71ac12df13c",
   "metadata": {},
   "outputs": [
    {
     "data": {
      "text/plain": [
       "\"\\nfolded = (ops.volume.CVDefinedVolume(tica_1, lambda_min=-1 , lambda_max=0)\\n         & ops.volume.CVDefinedVolume(tica_2, lambda_min=-1, lambda_max=1)).named('folded')\\nunfolded = (ops.volume.CVDefinedVolume(tica_1, lambda_min=1, lambda_max=2.5)\\n           & ops.volume.CVDefinedVolume(tica_2, lambda_min=-3, lambda_max=1.5)).named('unfolded')\\n\""
      ]
     },
     "execution_count": 7,
     "metadata": {},
     "output_type": "execute_result"
    }
   ],
   "source": [
    "# Prepare CVs\n",
    "# Define the intersection of volumes using tics\n",
    "\n",
    "tica_1 = ops.CoordinateFunctionCV(\"tica_1\", tica_cv,\n",
    "                                  tica_mod=tica_mod,\n",
    "                                  f_scheme=f_scheme,\n",
    "                                  element=0)\n",
    "\n",
    "tica_2 = ops.CoordinateFunctionCV(\"tica_2\", tica_cv,\n",
    "                                  tica_mod=tica_mod,\n",
    "                                  f_scheme=f_scheme,\n",
    "                                  element=1)\n",
    "\n",
    "circle_folded = ops.CoordinateFunctionCV('circle_folded', circle,\n",
    "                                         tica_1=tica_1,\n",
    "                                         tica_2=tica_2,\n",
    "                                         center=[-0.5,0])\n",
    "\n",
    "circle_unfolded = ops.CoordinateFunctionCV('circle_unfolded', circle,\n",
    "                                           tica_1=tica_1,\n",
    "                                           tica_2=tica_2,\n",
    "                                           center=[2,0])\n",
    "# Define metastable state hypervolumes\n",
    "folded = ops.volume.CVDefinedVolume(collectivevariable=circle_folded, lambda_min=0.0, lambda_max=0.3).named('folded')\n",
    "unfolded =ops.volume.CVDefinedVolume(collectivevariable=circle_unfolded, lambda_min=0.0, lambda_max=0.5).named('unfolded')\n",
    "\n",
    "'''\n",
    "folded = (ops.volume.CVDefinedVolume(tica_1, lambda_min=-1 , lambda_max=0)\n",
    "         & ops.volume.CVDefinedVolume(tica_2, lambda_min=-1, lambda_max=1)).named('folded')\n",
    "unfolded = (ops.volume.CVDefinedVolume(tica_1, lambda_min=1, lambda_max=2.5)\n",
    "           & ops.volume.CVDefinedVolume(tica_2, lambda_min=-3, lambda_max=1.5)).named('unfolded')\n",
    "'''"
   ]
  },
  {
   "cell_type": "code",
   "execution_count": 9,
   "id": "a2b3c895-c37a-4dd8-a4d7-7acad649bb5e",
   "metadata": {},
   "outputs": [],
   "source": [
    "gro = app.GromacsGroFile(os.path.join(md_path, 'nvt.gro'))\n",
    "# Gmx topology only stores reference to ff definitions. Need to specifty the directory contains ff files.\n",
    "top = app.GromacsTopFile(os.path.join(md_path, 'topol.top'), \n",
    "                         periodicBoxVectors=gro.getPeriodicBoxVectors(),\n",
    "                         includeDir=r'/home/rzhu/Loc/gromacs/share/gromacs/top')\n",
    "\n",
    "# Create system from gmx files\n",
    "system = top.createSystem(nonbondedMethod=app.PME,\n",
    "                          nonbondedCutoff=1.0*unit.nanometers,\n",
    "                          constraints=app.HBonds, \n",
    "                          rigidWater=True,\n",
    "                          ewaldErrorTolerance=0.0005)\n",
    "\n",
    "# Velocity-Verlet with Velocity Randomisation Integrator that simulates Langvein dynamics\n",
    "integrator = openmmtools.integrators.VVVRIntegrator(\n",
    "    # Temperature\n",
    "    340*unit.kelvin,\n",
    "    # Collision rate (temperature coupling time constant)\n",
    "    1.0/unit.picoseconds,\n",
    "    # Timestep\n",
    "    2.0*unit.femtoseconds\n",
    ")\n",
    "integrator.setConstraintTolerance(0.00001)"
   ]
  },
  {
   "cell_type": "code",
   "execution_count": 10,
   "id": "81045c5f-ae5f-4db9-828e-fa0b54203e2b",
   "metadata": {},
   "outputs": [],
   "source": [
    "# Parallelisation may slow down simulation. It's dependent on the system size (the larger the better), connection speed between gpus (nv>>pcie), gpu power,\n",
    "# and specific forces. \n",
    "\n",
    "openmm_properties = {'DeviceIndex':'2'}\n",
    "platform = mm.openmm.Platform.getPlatformByName('CUDA')\n",
    "engine_options = {\n",
    "    # Allowed returned traj frames\n",
    "    'n_frames_max': 1000,\n",
    "    # Time interval between frames = 1 ps\n",
    "    'n_steps_per_frame': 500\n",
    "}\n",
    "ops_topology = ops_openmm.tools.topology_from_pdb(os.path.join(md_path, 'nvt.gro'))\n",
    "engine = ops_openmm.Engine(\n",
    "    topology=ops_topology, \n",
    "    system=system, \n",
    "    integrator=integrator, \n",
    "    openmm_properties=openmm_properties,\n",
    "    options=engine_options\n",
    ").named('CLN_Openmm_engine')\n",
    "engine.initialize(platform)"
   ]
  },
  {
   "cell_type": "code",
   "execution_count": 11,
   "id": "60e0539b-2626-4190-952f-d352fa46e605",
   "metadata": {},
   "outputs": [],
   "source": [
    "# Define the path ensemble to be sampled from\n",
    "network = ops.TPSNetwork(initial_states=folded, final_states=unfolded)\n",
    "# Define shooting scheme. A shooting move scheme can contains multiple shooting strategies \n",
    "scheme = ops.OneWayShootingMoveScheme(network=network, \n",
    "                                      selector=ops.UniformSelector(),\n",
    "                                      engine=engine).named(\"CLN_scheme\")"
   ]
  },
  {
   "cell_type": "code",
   "execution_count": 12,
   "id": "cc2b0550-14a3-4c99-b045-4bcd992d1fdb",
   "metadata": {},
   "outputs": [
    {
     "name": "stdout",
     "output_type": "stream",
     "text": [
      "No missing ensembles.\n",
      "No extra ensembles.\n"
     ]
    }
   ],
   "source": [
    "# Load initial trajectory from external files\n",
    "init_traj=trajectory_from_mdtraj(md.load(os.path.join(md_path, 'trans.pdb')))\n",
    "initial_conditions = scheme.initial_conditions_from_trajectories(init_traj)"
   ]
  },
  {
   "cell_type": "code",
   "execution_count": 28,
   "id": "706764e0-69e9-4cfc-b4c2-f69a39a1452b",
   "metadata": {},
   "outputs": [],
   "source": [
    "storage = ops.Storage(storage_path.joinpath(f'{title}.nc'), \"w\", template=init_traj[1])\n",
    "sampler = ops.PathSampling(storage=storage,\n",
    "                           move_scheme=scheme,\n",
    "                           sample_set=initial_conditions)"
   ]
  },
  {
   "cell_type": "code",
   "execution_count": null,
   "id": "98f23781-615a-40c0-b5c2-248ff9684fd8",
   "metadata": {
    "tags": []
   },
   "outputs": [
    {
     "name": "stdout",
     "output_type": "stream",
     "text": [
      "Working on Monte Carlo cycle number 1\n",
      "Starting simulation...\n",
      "Working on first step\n"
     ]
    }
   ],
   "source": [
    "sampler.run(n_mcsteps)"
   ]
  },
  {
   "cell_type": "code",
   "execution_count": 26,
   "id": "5a3f0e73-d170-4a67-8dda-76b79b60561d",
   "metadata": {},
   "outputs": [],
   "source": [
    "storage.close()"
   ]
  },
  {
   "cell_type": "code",
   "execution_count": null,
   "id": "b6ed1a7d-941b-4bc8-a96d-6895b011c2b8",
   "metadata": {},
   "outputs": [],
   "source": []
  }
 ],
 "metadata": {
  "kernelspec": {
   "display_name": "Python 3 (ipykernel)",
   "language": "python",
   "name": "python3"
  },
  "language_info": {
   "codemirror_mode": {
    "name": "ipython",
    "version": 3
   },
   "file_extension": ".py",
   "mimetype": "text/x-python",
   "name": "python",
   "nbconvert_exporter": "python",
   "pygments_lexer": "ipython3",
   "version": "3.8.16"
  }
 },
 "nbformat": 4,
 "nbformat_minor": 5
}

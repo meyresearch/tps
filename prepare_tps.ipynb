{
 "cells": [
  {
   "cell_type": "code",
   "execution_count": 1,
   "id": "f996128f-71d7-4096-abd1-3346b80e78dc",
   "metadata": {},
   "outputs": [],
   "source": [
    "import mdtraj as md\n",
    "import pyemma as pm\n",
    "\n",
    "from pathlib import Path\n",
    "import os\n",
    "import pickle\n",
    "import pandas \n",
    "import numpy as np\n",
    "\n",
    "from openmm import app\n",
    "import openmm as mm\n",
    "import openmm.unit as unit\n",
    "import openmmtools\n",
    "\n",
    "import openpathsampling as ops\n",
    "import openpathsampling.engines.openmm as ops_openmm\n",
    "from openpathsampling.engines.openmm.tools import ops_load_trajectory\n",
    "from openpathsampling.engines.openmm import trajectory_from_mdtraj\n",
    "\n",
    "from cv import *"
   ]
  },
  {
   "cell_type": "code",
   "execution_count": 12,
   "id": "7c8d1ed1-1a99-4ac8-b318-fbcd889e7205",
   "metadata": {},
   "outputs": [],
   "source": [
    "# Paths\n",
    "title = 'CLN_dbscan(0.06,50)_tps'\n",
    "model_path = Path('./data/CLN_msm/')\n",
    "md_path = Path('./data/init_paths/CLN_md/')\n",
    "storage_path = Path(f'./data/{title}')\n",
    "storage_path.mkdir(parents=True, exist_ok=True)\n",
    "\n",
    "# Parameters\n",
    "f_scheme = 'ca'\n",
    "n_mcsteps = 10"
   ]
  },
  {
   "cell_type": "code",
   "execution_count": 3,
   "id": "3a8c73a3-21d3-4bbf-8923-fb719d5244df",
   "metadata": {},
   "outputs": [],
   "source": [
    "# Read tica_mod, kmeans_mod, msm, and clustering\n",
    "\n",
    "with open(os.path.join(model_path, 'msm_models'), 'rb') as f:\n",
    "    models = pickle.load(f)\n",
    "tica_mod = models['tica_mod']\n",
    "kmeans_mod = models['kmeans_mod']\n",
    "msm = models['msm']\n",
    "\n",
    "with open(os.path.join(model_path, 'clustering'), 'rb') as f:\n",
    "    models = pickle.load(f)\n",
    "dbscan_mod = models['dbscan']"
   ]
  },
  {
   "cell_type": "code",
   "execution_count": 4,
   "id": "dcf6b611-ad81-467a-80ab-d71ac12df13c",
   "metadata": {},
   "outputs": [],
   "source": [
    "# Prepare CVs\n",
    "# Define the intersection of volumes using tics\n",
    "\n",
    "tica_1 = ops.CoordinateFunctionCV(\"tica_1\", tica_cv,\n",
    "                                  tica_mod=tica_mod,\n",
    "                                  f_scheme=f_scheme,\n",
    "                                  element=0)\n",
    "\n",
    "tica_2 = ops.CoordinateFunctionCV(\"tica_2\", tica_cv,\n",
    "                                  tica_mod=tica_mod,\n",
    "                                  f_scheme=f_scheme,\n",
    "                                  element=1)\n",
    "\n",
    "dbscan_pre = ops.CoordinateFunctionCV('dbscan_pre', dbscan_predict,\n",
    "                                      tica_1=tica_1,\n",
    "                                      tica_2=tica_2,\n",
    "                                      dbscan_mod=dbscan_mod)\n",
    "\n",
    "# Define metastable state hypervolumes\n",
    "unfolded = ops.volume.CVDefinedVolume(collectivevariable=dbscan_pre, lambda_min=-0.1, lambda_max=0.1).named('unfolded')\n",
    "folded = ops.volume.CVDefinedVolume(collectivevariable=dbscan_pre, lambda_min=0.9, lambda_max=1.1).named('folded')"
   ]
  },
  {
   "cell_type": "code",
   "execution_count": 5,
   "id": "a2b3c895-c37a-4dd8-a4d7-7acad649bb5e",
   "metadata": {},
   "outputs": [],
   "source": [
    "gro = app.GromacsGroFile(os.path.join(md_path, 'nvt.gro'))\n",
    "# Gmx topology only stores reference to ff definitions. Need to specifty the directory contains ff files.\n",
    "top = app.GromacsTopFile(os.path.join(md_path, 'topol.top'), \n",
    "                         periodicBoxVectors=gro.getPeriodicBoxVectors(),\n",
    "                         includeDir=r'/home/rzhu/Loc/gromacs/share/gromacs/top')\n",
    "\n",
    "# Create system from gmx files\n",
    "system = top.createSystem(nonbondedMethod=app.PME,\n",
    "                          nonbondedCutoff=1.0*unit.nanometers,\n",
    "                          constraints=app.HBonds, \n",
    "                          rigidWater=True,\n",
    "                          ewaldErrorTolerance=0.0005)\n",
    "\n",
    "# Velocity-Verlet with Velocity Randomisation Integrator that simulates Langvein dynamics\n",
    "integrator = openmmtools.integrators.VVVRIntegrator(\n",
    "    # Temperature\n",
    "    temperature=340*unit.kelvin,\n",
    "    # Collision rate (temperature coupling time constant)\n",
    "    collision_rate=1.0/unit.picoseconds,\n",
    "    # Timestep\n",
    "    timestep=2.0*unit.femtoseconds)\n",
    "integrator.setConstraintTolerance(0.00001)"
   ]
  },
  {
   "cell_type": "code",
   "execution_count": 6,
   "id": "81045c5f-ae5f-4db9-828e-fa0b54203e2b",
   "metadata": {},
   "outputs": [],
   "source": [
    "# Parallelisation may slow down simulation. It's dependent on the system size (the larger the better), connection speed between gpus (nv>>pcie), gpu power,\n",
    "# and specific forces. \n",
    "\n",
    "openmm_properties = {'DeviceIndex':'2'}\n",
    "platform = mm.openmm.Platform.getPlatformByName('CUDA')\n",
    "engine_options = {\n",
    "    # Allowed returned traj frames\n",
    "    'n_frames_max': 1000,\n",
    "    # Time interval between frames = 1 ps\n",
    "    'n_steps_per_frame': 500\n",
    "}\n",
    "ops_topology = ops_openmm.tools.topology_from_pdb(os.path.join(md_path, 'nvt.gro'))\n",
    "engine = ops_openmm.Engine(\n",
    "    topology=ops_topology, \n",
    "    system=system, \n",
    "    integrator=integrator, \n",
    "    openmm_properties=openmm_properties,\n",
    "    options=engine_options\n",
    ").named('CLN_Openmm_engine')\n",
    "engine.initialize(platform)"
   ]
  },
  {
   "cell_type": "code",
   "execution_count": 7,
   "id": "60e0539b-2626-4190-952f-d352fa46e605",
   "metadata": {},
   "outputs": [],
   "source": [
    "# Define the path ensemble to be sampled from\n",
    "network = ops.TPSNetwork(initial_states=[folded, unfolded], \n",
    "                         final_states=[folded, unfolded])\n",
    "# Define shooting scheme. A shooting move scheme can contains multiple shooting strategies \n",
    "scheme = ops.OneWayShootingMoveScheme(network=network, \n",
    "                                      selector=ops.UniformSelector(),\n",
    "                                      engine=engine).named(\"CLN_bidir_scheme\")"
   ]
  },
  {
   "cell_type": "code",
   "execution_count": 8,
   "id": "cc2b0550-14a3-4c99-b045-4bcd992d1fdb",
   "metadata": {},
   "outputs": [
    {
     "name": "stdout",
     "output_type": "stream",
     "text": [
      "No missing ensembles.\n",
      "No extra ensembles.\n"
     ]
    }
   ],
   "source": [
    "# Load initial trajectory from external files\n",
    "init_traj=trajectory_from_mdtraj(md.load(os.path.join(md_path, 'trans.pdb')))\n",
    "initial_conditions = scheme.initial_conditions_from_trajectories(init_traj)"
   ]
  },
  {
   "cell_type": "code",
   "execution_count": 30,
   "id": "706764e0-69e9-4cfc-b4c2-f69a39a1452b",
   "metadata": {},
   "outputs": [],
   "source": [
    "# This is to start a new storage\n",
    "# storage = ops.Storage(storage_path.joinpath(f'{title}.nc'), \"w\", template=init_traj[1])\n",
    "sampler = ops.PathSampling(storage=storage,\n",
    "                           move_scheme=scheme,\n",
    "                           sample_set=initial_conditions)"
   ]
  },
  {
   "cell_type": "code",
   "execution_count": null,
   "id": "d76b706d-36c8-4c29-ada8-647855604a11",
   "metadata": {},
   "outputs": [
    {
     "name": "stdout",
     "output_type": "stream",
     "text": [
      "Working on Monte Carlo cycle number 7\n",
      "Starting simulation...\n",
      "Working on first step\n"
     ]
    }
   ],
   "source": [
    "# This cell is to restart a simulation \n",
    "\n",
    "storage = ops.Storage(storage_path.joinpath(f'{title}.nc'), \"a\", template=init_traj[1])\n",
    "sampler.run(5000)\n",
    "storage.close()"
   ]
  },
  {
   "cell_type": "code",
   "execution_count": null,
   "id": "3acde361-f4e4-4c74-8c56-5d577786e7af",
   "metadata": {},
   "outputs": [],
   "source": [
    "sampler.restart_at_step(storage.steps[-1])"
   ]
  }
 ],
 "metadata": {
  "kernelspec": {
   "display_name": "Python 3 (ipykernel)",
   "language": "python",
   "name": "python3"
  },
  "language_info": {
   "codemirror_mode": {
    "name": "ipython",
    "version": 3
   },
   "file_extension": ".py",
   "mimetype": "text/x-python",
   "name": "python",
   "nbconvert_exporter": "python",
   "pygments_lexer": "ipython3",
   "version": "3.8.16"
  }
 },
 "nbformat": 4,
 "nbformat_minor": 5
}

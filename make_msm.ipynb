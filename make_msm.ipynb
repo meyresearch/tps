{
 "cells": [
  {
   "cell_type": "code",
   "execution_count": 1,
   "id": "f51d3565-fbc7-411f-bf29-617a14273ac2",
   "metadata": {},
   "outputs": [],
   "source": [
    "import mdtraj as md\n",
    "import pyemma as pm\n",
    "import openpathsampling as ops\n",
    "\n",
    "from pathlib import Path\n",
    "import os\n",
    "import pickle\n",
    "import pandas \n",
    "import numpy as np"
   ]
  },
  {
   "cell_type": "code",
   "execution_count": 2,
   "id": "5324b9b7-030d-45f2-a968-a01c52e70dbf",
   "metadata": {},
   "outputs": [],
   "source": [
    "seed = 49587\n",
    "rng = np.random.default_rng(seed)\n",
    "protein = 'CLN'\n",
    "\n",
    "# Paths\n",
    "top_path = './data/CLN/protein.pdb'\n",
    "traj_paths = [str(x) for x in Path(r'./data/CLN').rglob(f'CLN025-0-protein-*.xtc')]\n",
    "traj_paths.sort()\n",
    "model_path = r'./data/CLN/'\n",
    "\n",
    "# MSM parameters\n",
    "f_scheme = 'ca'\n",
    "tica_lag = 3\n",
    "tica_d = 15\n",
    "cluster_n = 469\n",
    "cluster_stride = 1\n",
    "max_iter = 1000\n",
    "msm_lag = 31\n",
    "\n",
    "# PCCA+ parameters\n",
    "n_sets = 2\n",
    "core_membership_cutoff = 0.9"
   ]
  },
  {
   "cell_type": "code",
   "execution_count": 3,
   "id": "d511206d-3271-417c-bd37-c9a99adc6c59",
   "metadata": {},
   "outputs": [
    {
     "name": "stderr",
     "output_type": "stream",
     "text": [
      "/home/rzhu/Loc/miniconda3/envs/ops/lib/python3.8/site-packages/decorator.py:232: PyEMMA_DeprecationWarning: Call to deprecated function \"tica\". Called from /home/rzhu/Loc/miniconda3/envs/ops/lib/python3.8/site-packages/decorator.py line 232. Use deeptime.decomposition.TICA instead.\n",
      "  return caller(func, *(extras + args), **kw)\n"
     ]
    },
    {
     "data": {
      "application/vnd.jupyter.widget-view+json": {
       "model_id": "",
       "version_major": 2,
       "version_minor": 0
      },
      "text/plain": [
       "calculate covariances:   0%|          | 0/54 [00:00<?, ?it/s]"
      ]
     },
     "metadata": {},
     "output_type": "display_data"
    },
    {
     "data": {
      "application/vnd.jupyter.widget-view+json": {
       "model_id": "",
       "version_major": 2,
       "version_minor": 0
      },
      "text/plain": [
       "getting output of TICA:   0%|          | 0/54 [00:00<?, ?it/s]"
      ]
     },
     "metadata": {},
     "output_type": "display_data"
    },
    {
     "name": "stderr",
     "output_type": "stream",
     "text": [
      "/home/rzhu/Loc/miniconda3/envs/ops/lib/python3.8/site-packages/decorator.py:232: PyEMMA_DeprecationWarning: Call to deprecated function \"cluster_kmeans\". Called from /home/rzhu/Loc/miniconda3/envs/ops/lib/python3.8/site-packages/decorator.py line 232. Use deeptime.clustering.KMeans instead.\n",
      "  return caller(func, *(extras + args), **kw)\n"
     ]
    },
    {
     "data": {
      "application/vnd.jupyter.widget-view+json": {
       "model_id": "",
       "version_major": 2,
       "version_minor": 0
      },
      "text/plain": [
       "initialize kmeans++ centers:   0%|          | 0/469 [00:00<?, ?it/s]"
      ]
     },
     "metadata": {},
     "output_type": "display_data"
    },
    {
     "data": {
      "application/vnd.jupyter.widget-view+json": {
       "model_id": "",
       "version_major": 2,
       "version_minor": 0
      },
      "text/plain": [
       "kmeans iterations:   0%|          | 0/1000 [00:00<?, ?it/s]"
      ]
     },
     "metadata": {},
     "output_type": "display_data"
    },
    {
     "data": {
      "application/vnd.jupyter.widget-view+json": {
       "model_id": "",
       "version_major": 2,
       "version_minor": 0
      },
      "text/plain": [
       "getting output of KmeansClustering:   0%|          | 0/54 [00:00<?, ?it/s]"
      ]
     },
     "metadata": {},
     "output_type": "display_data"
    }
   ],
   "source": [
    "# MSM & pcca\n",
    "\n",
    "ftrajs = []\n",
    "for traj_path in traj_paths:\n",
    "    traj = md.load(traj_path, top=top_path)\n",
    "    ftrajs.append(md.compute_contacts(traj, scheme=f_scheme)[0])\n",
    "\n",
    "tica_mod = pm.coordinates.tica(ftrajs, lag=tica_lag, dim=tica_d, kinetic_map=True)\n",
    "ttrajs = tica_mod.get_output()\n",
    "\n",
    "kmeans_mod = pm.coordinates.cluster_kmeans(ttrajs, k=cluster_n, max_iter=max_iter, stride=cluster_stride, fixed_seed=seed)\n",
    "dtrajs = kmeans_mod.dtrajs\n",
    "\n",
    "msm = pm.msm.estimate_markov_model(dtrajs, lag=msm_lag)\n",
    "_ = msm.pcca(n_sets)"
   ]
  },
  {
   "cell_type": "code",
   "execution_count": 4,
   "id": "56bfd06f-7e45-49f3-8d8e-80ba472d648f",
   "metadata": {},
   "outputs": [],
   "source": [
    "# Sava tica_mod and kmeans_mod objects \n",
    "\n",
    "with open(os.path.join(model_path, 'msm_models'), 'wb') as f:\n",
    "    pickle.dump({'tica_mod':tica_mod, 'kmeans_mod':kmeans_mod, 'msm':msm}, f)"
   ]
  },
  {
   "cell_type": "code",
   "execution_count": null,
   "id": "c2719db2-1ad6-4523-a0e4-e1b055e9b708",
   "metadata": {},
   "outputs": [],
   "source": []
  }
 ],
 "metadata": {
  "kernelspec": {
   "display_name": "Python 3",
   "language": "python",
   "name": "python3"
  },
  "language_info": {
   "codemirror_mode": {
    "name": "ipython",
    "version": 3
   },
   "file_extension": ".py",
   "mimetype": "text/x-python",
   "name": "python",
   "nbconvert_exporter": "python",
   "pygments_lexer": "ipython3",
   "version": "3.8.16"
  }
 },
 "nbformat": 4,
 "nbformat_minor": 5
}

{
 "cells": [
  {
   "cell_type": "code",
   "execution_count": 4,
   "id": "f996128f-71d7-4096-abd1-3346b80e78dc",
   "metadata": {},
   "outputs": [],
   "source": [
    "import mdtraj as md\n",
    "import pyemma as pm\n",
    "\n",
    "from pathlib import Path\n",
    "import os\n",
    "import pickle\n",
    "import pandas \n",
    "import numpy as np\n",
    "\n",
    "from openmm import app\n",
    "import openmm as mm\n",
    "import openmm.unit as unit\n",
    "import openmmtools\n",
    "\n",
    "import openpathsampling as ops\n",
    "import openpathsampling.engines.openmm as ops_openmm\n",
    "from openpathsampling.engines.openmm.tools import ops_load_trajectory\n",
    "from openpathsampling.engines.openmm import trajectory_from_mdtraj"
   ]
  },
  {
   "cell_type": "code",
   "execution_count": 14,
   "id": "7c8d1ed1-1a99-4ac8-b318-fbcd889e7205",
   "metadata": {},
   "outputs": [],
   "source": [
    "# Paths\n",
    "title = 'CLN_tps_test'\n",
    "model_path = r'./data/CLN/'\n",
    "md_path = r'./data/init_paths/CLN_md/'\n",
    "ops_path = Path(f'./data/{title}')\n",
    "ops_path.mkdir(parents=True, exist_ok=True)\n",
    "\n",
    "# Parameters\n",
    "f_scheme = 'ca'"
   ]
  },
  {
   "cell_type": "code",
   "execution_count": 6,
   "id": "3a8c73a3-21d3-4bbf-8923-fb719d5244df",
   "metadata": {},
   "outputs": [],
   "source": [
    "# Read tica_mod, kmeans_mod, and msm\n",
    "\n",
    "with open(os.path.join(model_path, 'msm_models'), 'rb') as f:\n",
    "    models = pickle.load(f)\n",
    "tica_mod = models['tica_mod']\n",
    "kmeans_mod = models['kmeans_mod']\n",
    "msm = models['msm']"
   ]
  },
  {
   "cell_type": "code",
   "execution_count": 17,
   "id": "10ccfb83-87a8-4a9a-9698-0e53661f6a42",
   "metadata": {},
   "outputs": [],
   "source": [
    "# Prepare CVs\n",
    "\n",
    "def tica_cv(snapshot, tica_mod, f_scheme, tica_k):\n",
    "    import openpathsampling as ops\n",
    "    import mdtraj as md\n",
    "    \n",
    "    traj = ops.engines.Trajectory([snapshot]).to_mdtraj()\n",
    "    traj.remove_solvent(inplace=True)\n",
    "    \n",
    "    f_traj = md.compute_contacts(traj, scheme=f_scheme)[0]\n",
    "    tica_traj = tica_mod.transform(f_traj)[0]\n",
    "    return tica_traj[tica_k]\n",
    "\n",
    "def pcca_cv(snapshot, tica_mod, kmeans_mod, msm, f_scheme, pcca_k):\n",
    "    import openpathsampling as ops\n",
    "    import mdtraj as md\n",
    "    \n",
    "    traj = ops.engines.Trajectory([snapshot]).to_mdtraj()\n",
    "    traj.remove_solvent(inplace=True)\n",
    "    \n",
    "    f_traj = md.compute_contacts(traj, scheme=f_scheme)[0]\n",
    "    tica_traj = tica_mod.transform(f_traj)\n",
    "    microstate = kmeans_mod.assign(tica_traj)\n",
    "    pcca = msm.metastable_memberships[microstate].flatten()\n",
    "    return pcca[pcca_k]\n",
    "\n",
    "with open(os.path.join(ops_path, 'cvs'), 'wb') as f:\n",
    "    models = pickle.dump({'tica_cv':tica_cv, 'pcca_cv': pcca_cv},f)\n",
    "\n",
    "tica = ops.FunctionCV(\"tica_cv\", tica_cv,\n",
    "                      tica_mod=tica_mod,\n",
    "                      f_scheme=f_scheme,\n",
    "                      tica_k=0)\n",
    "pcca = ops.FunctionCV(\"pcca_cv\", pcca_cv, \n",
    "                     tica_mod=tica_mod,\n",
    "                     kmeans_mod=kmeans_mod,\n",
    "                     msm=msm,\n",
    "                     cv_time_reversible=True,\n",
    "                     f_scheme=f_scheme,\n",
    "                     pcca_k=0)\n",
    "\n",
    "# Define metastable state hypervolumes\n",
    "pcca_0_vol = ops.volume.CVDefinedVolume(pcca, lambda_min=0.95, lambda_max=1.00)\n",
    "pcca_1_vol = ops.volume.CVDefinedVolume(pcca, lambda_min=0.00, lambda_max=0.05)"
   ]
  },
  {
   "cell_type": "code",
   "execution_count": null,
   "id": "a2b3c895-c37a-4dd8-a4d7-7acad649bb5e",
   "metadata": {},
   "outputs": [],
   "source": [
    "gro = app.GromacsGroFile(os.path.join(md_path, 'nvt.gro'))\n",
    "# Gmx topology only stores reference to ff definitions. Need to specifty the directory contains ff files.\n",
    "top = app.GromacsTopFile(os.path.join(md_path, 'topol.top'), \n",
    "                         periodicBoxVectors=gro.getPeriodicBoxVectors(),\n",
    "                         includeDir=r'/home/rzhu/Loc/gromacs/share/gromacs/top')\n",
    "\n",
    "# Create system from gmx files\n",
    "system = top.createSystem(nonbondedMethod=app.PME, \n",
    "                          nonbondedCutoff=1.0*unit.nanometers,\n",
    "                          constraints=app.HBonds, \n",
    "                          rigidWater=True,\n",
    "                          ewaldErrorTolerance=0.0005)\n",
    "\n",
    "# Velocity-Verlet with Velocity Randomisation Integrator that simulates Langvein dynamics\n",
    "integrator = openmmtools.integrators.VVVRIntegrator(\n",
    "    # Temperature\n",
    "    340*unit.kelvin,\n",
    "    # Collision rate (temperature coupling time constant)\n",
    "    1.0/unit.picoseconds,\n",
    "    # Timestep\n",
    "    2.0*unit.femtoseconds\n",
    ")\n",
    "integrator.setConstraintTolerance(0.00001)"
   ]
  },
  {
   "cell_type": "code",
   "execution_count": null,
   "id": "81045c5f-ae5f-4db9-828e-fa0b54203e2b",
   "metadata": {},
   "outputs": [],
   "source": [
    "# Parallelisation may slow down simulation. It's dependent on the system size (the larger the better), connection speed between gpus (nv>>pcie), gpu power,\n",
    "# and specific forces. \n",
    "\n",
    "openmm_properties = {'DeviceIndex':'2'}\n",
    "platform = mm.openmm.Platform.getPlatformByName('CUDA')\n",
    "engine_options = {\n",
    "    # Maximal frames per trajectory 100000 *1 ps = 100 ns\n",
    "    'n_frames_max': 100000,\n",
    "    # Time interval between frames = 1 ps\n",
    "    'n_steps_per_frame': 500\n",
    "}\n",
    "ops_topology = ops_openmm.tools.topology_from_pdb(os.path.join(md_path, 'nvt.gro'))\n",
    "engine = ops_openmm.Engine(\n",
    "    topology=ops_topology, \n",
    "    system=system, \n",
    "    integrator=integrator, \n",
    "    openmm_properties=openmm_properties,\n",
    "    options=engine_options\n",
    ").named('CLN_Openmm_engine')\n",
    "engine.initialize(platform)"
   ]
  },
  {
   "cell_type": "code",
   "execution_count": null,
   "id": "60e0539b-2626-4190-952f-d352fa46e605",
   "metadata": {},
   "outputs": [],
   "source": [
    "# Define the path ensemble to be sampled from\n",
    "network = ops.TPSNetwork(initial_states=pcca_0_vol, final_states=pcca_1_vol)\n",
    "# Define shooting scheme. A shooting move scheme can contains multiple shooting strategies \n",
    "scheme = ops.OneWayShootingMoveScheme(network=network, \n",
    "                                      selector=ops.UniformSelector(),\n",
    "                                      engine=engine).named(\"CLN_scheme\")"
   ]
  },
  {
   "cell_type": "code",
   "execution_count": null,
   "id": "cc2b0550-14a3-4c99-b045-4bcd992d1fdb",
   "metadata": {},
   "outputs": [],
   "source": [
    "# Load initial trajectory from external files\n",
    "init_traj=trajectory_from_mdtraj(md.load(os.path.join(md_path, 'trans.pdb')))\n",
    "initial_conditions = scheme.initial_conditions_from_trajectories(init_traj)"
   ]
  },
  {
   "cell_type": "code",
   "execution_count": null,
   "id": "706764e0-69e9-4cfc-b4c2-f69a39a1452b",
   "metadata": {},
   "outputs": [],
   "source": [
    "storage = ops.Storage(ops_path.join(f'{title}.nc'), \"w\", template=init_traj[0])\n",
    "sampler = ops.PathSampling(storage=storage,\n",
    "                           move_scheme=scheme,\n",
    "                           sample_set=initial_conditions)"
   ]
  },
  {
   "cell_type": "code",
   "execution_count": null,
   "id": "98f23781-615a-40c0-b5c2-248ff9684fd8",
   "metadata": {},
   "outputs": [],
   "source": [
    "sampler.run(50)"
   ]
  },
  {
   "cell_type": "code",
   "execution_count": null,
   "id": "5a3f0e73-d170-4a67-8dda-76b79b60561d",
   "metadata": {},
   "outputs": [],
   "source": [
    "storage.close()"
   ]
  }
 ],
 "metadata": {
  "kernelspec": {
   "display_name": "Python 3 (ipykernel)",
   "language": "python",
   "name": "python3"
  },
  "language_info": {
   "codemirror_mode": {
    "name": "ipython",
    "version": 3
   },
   "file_extension": ".py",
   "mimetype": "text/x-python",
   "name": "python",
   "nbconvert_exporter": "python",
   "pygments_lexer": "ipython3",
   "version": "3.8.16"
  }
 },
 "nbformat": 4,
 "nbformat_minor": 5
}

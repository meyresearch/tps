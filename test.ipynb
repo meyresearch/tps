{
 "cells": [
  {
   "cell_type": "code",
   "execution_count": 1,
   "id": "4723a970-5703-44d9-8a4b-71c705836649",
   "metadata": {},
   "outputs": [],
   "source": [
    "%matplotlib inline\n",
    "import matplotlib.pyplot as plt\n",
    "import seaborn as sns\n",
    "import numpy as np\n",
    "\n",
    "from openmm import app\n",
    "import openmm as mm\n",
    "import openmm.unit as unit\n",
    "import openmmtools\n",
    "\n",
    "import openpathsampling as paths\n",
    "import openpathsampling.engines.openmm as ops_openmm\n",
    "from openpathsampling.engines.openmm.tools import ops_load_trajectory\n",
    "import openpathsampling.visualize as ops_vis\n",
    "\n",
    "import mdtraj as md\n",
    "import pyemma as pm\n",
    "\n",
    "from pathlib import Path\n",
    "import os\n",
    "import pickle\n",
    "import pandas \n",
    "from IPython.display import SVG"
   ]
  },
  {
   "cell_type": "code",
   "execution_count": 2,
   "id": "59cc19c5-4e33-4d5b-baa1-150529824358",
   "metadata": {},
   "outputs": [],
   "source": [
    "seed = 49587\n",
    "rng = np.random.default_rng(seed)\n",
    "\n",
    "# Paths\n",
    "top_path = './data/CLN/protein.pdb'\n",
    "traj_paths = [str(x) for x in Path(r'./data/CLN').rglob(f'CLN025-0-protein-*.xtc')]\n",
    "md_gro_path = './data/init_paths/CLN_md/nvt.gro'\n",
    "md_top_path = './data/init_paths/CLN_md/topol.top'\n",
    "traj_paths.sort()\n",
    "\n",
    "# MSM parameters\n",
    "f_scheme = 'ca'\n",
    "tica_lag = 3\n",
    "tica_d = 15\n",
    "cluster_n = 469\n",
    "cluster_stride = 1\n",
    "max_iter = 1000\n",
    "msm_lag = 31\n",
    "\n",
    "# PCCA+ parameters\n",
    "n_sets = 2\n",
    "core_membership_cutoff = 0.9"
   ]
  },
  {
   "cell_type": "code",
   "execution_count": 3,
   "id": "b0ed7ca2-6646-45f0-879e-a8dd99648007",
   "metadata": {
    "tags": []
   },
   "outputs": [
    {
     "name": "stderr",
     "output_type": "stream",
     "text": [
      "/home/rzhu/Loc/miniconda3/envs/ops/lib/python3.8/site-packages/decorator.py:232: PyEMMA_DeprecationWarning: Call to deprecated function \"tica\". Called from /home/rzhu/Loc/miniconda3/envs/ops/lib/python3.8/site-packages/decorator.py line 232. Use deeptime.decomposition.TICA instead.\n",
      "  return caller(func, *(extras + args), **kw)\n"
     ]
    },
    {
     "data": {
      "application/vnd.jupyter.widget-view+json": {
       "model_id": "",
       "version_major": 2,
       "version_minor": 0
      },
      "text/plain": [
       "calculate covariances:   0%|          | 0/54 [00:00<?, ?it/s]"
      ]
     },
     "metadata": {},
     "output_type": "display_data"
    },
    {
     "data": {
      "application/vnd.jupyter.widget-view+json": {
       "model_id": "",
       "version_major": 2,
       "version_minor": 0
      },
      "text/plain": [
       "getting output of TICA:   0%|          | 0/54 [00:00<?, ?it/s]"
      ]
     },
     "metadata": {},
     "output_type": "display_data"
    },
    {
     "name": "stderr",
     "output_type": "stream",
     "text": [
      "/home/rzhu/Loc/miniconda3/envs/ops/lib/python3.8/site-packages/decorator.py:232: PyEMMA_DeprecationWarning: Call to deprecated function \"cluster_kmeans\". Called from /home/rzhu/Loc/miniconda3/envs/ops/lib/python3.8/site-packages/decorator.py line 232. Use deeptime.clustering.KMeans instead.\n",
      "  return caller(func, *(extras + args), **kw)\n"
     ]
    },
    {
     "data": {
      "application/vnd.jupyter.widget-view+json": {
       "model_id": "",
       "version_major": 2,
       "version_minor": 0
      },
      "text/plain": [
       "initialize kmeans++ centers:   0%|          | 0/469 [00:00<?, ?it/s]"
      ]
     },
     "metadata": {},
     "output_type": "display_data"
    },
    {
     "data": {
      "application/vnd.jupyter.widget-view+json": {
       "model_id": "",
       "version_major": 2,
       "version_minor": 0
      },
      "text/plain": [
       "kmeans iterations:   0%|          | 0/1000 [00:00<?, ?it/s]"
      ]
     },
     "metadata": {},
     "output_type": "display_data"
    },
    {
     "data": {
      "application/vnd.jupyter.widget-view+json": {
       "model_id": "",
       "version_major": 2,
       "version_minor": 0
      },
      "text/plain": [
       "getting output of KmeansClustering:   0%|          | 0/54 [00:00<?, ?it/s]"
      ]
     },
     "metadata": {},
     "output_type": "display_data"
    }
   ],
   "source": [
    "# MSM\n",
    "ftrajs = []\n",
    "for traj_path in traj_paths:\n",
    "    traj = md.load(traj_path, top=top_path)\n",
    "    ftrajs.append(md.compute_contacts(traj, scheme=f_scheme)[0])\n",
    "ftrajs_cat = np.concatenate(ftrajs)\n",
    "\n",
    "tica_mod = pm.coordinates.tica(ftrajs, lag=tica_lag, dim=tica_d, kinetic_map=True)\n",
    "ttrajs = tica_mod.get_output()\n",
    "\n",
    "kmeans_mod = pm.coordinates.cluster_kmeans(ttrajs, k=cluster_n, max_iter=max_iter, stride=cluster_stride, fixed_seed=seed)\n",
    "dtrajs = kmeans_mod.dtrajs\n",
    "\n",
    "msm = pm.msm.estimate_markov_model(dtrajs, lag=msm_lag)\n",
    "_ = msm.pcca(n_sets)"
   ]
  },
  {
   "cell_type": "code",
   "execution_count": null,
   "id": "f70d39c0-5db1-496a-99b1-47212bc7ebf8",
   "metadata": {},
   "outputs": [],
   "source": [
    "ttrajs_cat = np.concatenate(ttrajs)\n",
    "\n",
    "with sns.plotting_context('paper',font_scale=1.5):\n",
    "    fig, ax = plt.subplots(figsize=(20, 4))\n",
    "    \n",
    "    ax.plot(ttrajs_cat[:,0], lw=0.4, label='IC1')\n",
    "    ax.set_xlim([0, ttrajs_cat.shape[0]])\n",
    "    \n",
    "    for i in range(0, len(ftrajs_cat), 2000):\n",
    "        ax.axvline(i, ls='--', lw=1.5, c='gray', alpha=0.8)"
   ]
  },
  {
   "cell_type": "code",
   "execution_count": null,
   "id": "9ef3b3e6-191a-4bc4-a2ae-5877f3ed2bf5",
   "metadata": {},
   "outputs": [],
   "source": [
    "with sns.plotting_context('paper',font_scale=1.5):\n",
    "    fig, ax = plt.subplots(figsize=(20, 4))\n",
    "    \n",
    "    ax.plot(ttrajs[3][:,0], lw=0.4, label='IC1')\n",
    "    ax.set_xlim([850, 900])"
   ]
  },
  {
   "cell_type": "code",
   "execution_count": null,
   "id": "7fbc2545-6dd8-49da-a234-46682a38794e",
   "metadata": {},
   "outputs": [],
   "source": [
    "# Initial path from md\n",
    "\n",
    "t_traj = md.load(traj_paths[3], top=top_path)\n",
    "transition_traj = t_traj[850:890]\n",
    "transition_traj.superpose(transition_traj[0])\n",
    "transition_traj.save(r'./data/init_paths/CLN_md.xtc')"
   ]
  },
  {
   "cell_type": "code",
   "execution_count": 4,
   "id": "8fdc549c-81bb-4da9-931e-92be9c4fc82c",
   "metadata": {},
   "outputs": [],
   "source": [
    "# Define CVs\n",
    "\n",
    "def tica_cv(snapshot, tica_mod, f_scheme):\n",
    "    f_snapshot = md.compute_contacts(snapshot, scheme=f_scheme)[0]\n",
    "    tica_snapshot = tica_mods.transform(f_snapshot)\n",
    "    return tica_cv\n",
    "\n",
    "tica = paths.FunctionCV(\"tica_cv\", tica_cv, \n",
    "                           tica_mod=tica_mod)\n",
    "\n",
    "# Import libraries again as the function can't access global variables\n",
    "def pcca_cv(snapshot, tica_mod, kmeans_mod, msm, f_scheme):\n",
    "    import openpathsampling as paths\n",
    "    import mdtraj as md\n",
    "    traj = paths.engines.Trajectory([snapshot]).to_mdtraj()\n",
    "    f_traj = md.compute_contacts(traj, scheme=f_scheme)[0]\n",
    "    tica_traj = tica_mod.transform(f_traj)\n",
    "    microstate = kmeans_mod.assign(tica_traj)\n",
    "    pcca = msm.metastable_memberships[microstate].flatten()\n",
    "    return pcca[0]\n",
    "\n",
    "pcca = paths.FunctionCV(\"pcca_cv\", pcca_cv, \n",
    "                        tica_mod=tica_mod,\n",
    "                        kmeans_mod=kmeans_mod,\n",
    "                        msm=msm,\n",
    "                        cv_time_reversible=True,\n",
    "                        f_scheme=f_scheme)"
   ]
  },
  {
   "cell_type": "code",
   "execution_count": 5,
   "id": "9810fbde-5035-42d5-9bbc-a2f0967fbc93",
   "metadata": {},
   "outputs": [],
   "source": [
    "# Define metastable states hypervolumes\n",
    "pcca_0_vol = paths.volume.CVDefinedVolume(pcca, lambda_min=0.95, lambda_max=1.00)\n",
    "pcca_1_vol = paths.volume.CVDefinedVolume(pcca, lambda_min=0.00, lambda_max=0.05)"
   ]
  },
  {
   "cell_type": "code",
   "execution_count": 6,
   "id": "6b1a2a85-908f-4b8a-8931-b46d9ff1d6a7",
   "metadata": {},
   "outputs": [],
   "source": [
    "gro = app.GromacsGroFile(md_gro_path)\n",
    "# Gmx topology only stores reference to ff definitions. Need to specifty the directory contains ff files.\n",
    "top = app.GromacsTopFile(md_top_path, \n",
    "                         periodicBoxVectors=gro.getPeriodicBoxVectors(),\n",
    "                         includeDir=r'/home/rzhu/Loc/gromacs/share/gromacs/top')\n",
    "\n",
    "# Create system from gmx files\n",
    "system = top.createSystem(nonbondedMethod=app.PME, \n",
    "                          nonbondedCutoff=1.0*unit.nanometers,\n",
    "                          constraints=app.HBonds, \n",
    "                          rigidWater=True,\n",
    "                          ewaldErrorTolerance=0.0005)\n",
    "\n",
    "# Velocity-Verlet with Velocity Randomisation Integrator that simulates Langvein dynamics\n",
    "integrator = openmmtools.integrators.VVVRIntegrator(\n",
    "    # Temperature\n",
    "    300*unit.kelvin,\n",
    "    # Collision rate (temperature coupling time constant)\n",
    "    1.0/unit.picoseconds,\n",
    "    # Timestep\n",
    "    2.0*unit.femtoseconds\n",
    ")\n",
    "integrator.setConstraintTolerance(0.00001)"
   ]
  },
  {
   "cell_type": "code",
   "execution_count": null,
   "id": "aa352f16-60ee-4233-af3b-c0685b4a40d3",
   "metadata": {},
   "outputs": [],
   "source": [
    "# in case i want to run simulations in open mm\n",
    "simulation = app.Simulation(top.topology, system, integrator)\n",
    "simulation.context.setPositions(gro.positions)\n",
    "simulation.reporters.append(app.PDBReporter('output.pdb', 1000))\n",
    "simulation.minimizeEnergy()"
   ]
  },
  {
   "cell_type": "code",
   "execution_count": 7,
   "id": "0f485252-b3d5-4848-9b81-1adfbffb0f41",
   "metadata": {},
   "outputs": [],
   "source": [
    "openmm_properties = {}\n",
    "engine_options = {\n",
    "    # Maximal frames per trajectory 100 ns\n",
    "    'n_frames_max': 100000,\n",
    "    # Time interval between frames = 1 ps\n",
    "    'n_steps_per_frame': 500\n",
    "}\n",
    "ops_topology = ops_openmm.tools.topology_from_pdb(md_gro_path)\n",
    "engine = ops_openmm.Engine(\n",
    "    topology=ops_topology, \n",
    "    system=system, \n",
    "    integrator=integrator, \n",
    "    openmm_properties=openmm_properties,\n",
    "    options=engine_options\n",
    ").named('CLN_Openmm_engine')"
   ]
  },
  {
   "cell_type": "code",
   "execution_count": 8,
   "id": "f4bcb3a6-588f-4e62-b94a-0fc1746ba873",
   "metadata": {},
   "outputs": [],
   "source": [
    "# Define the path ensemble to be sampled from\n",
    "network = paths.TPSNetwork(initial_states=pcca_0_vol, final_states=pcca_1_vol)\n",
    "# Define shooting scheme. A shooting move scheme can contains multiple shooting strategies \n",
    "scheme = paths.OneWayShootingMoveScheme(network=network, \n",
    "                                        selector=paths.UniformSelector(),\n",
    "                                        engine=engine).named(\"CLN_scheme\")"
   ]
  },
  {
   "cell_type": "code",
   "execution_count": 9,
   "id": "cd384b74-12d4-4052-ae5d-61ed33b901d5",
   "metadata": {},
   "outputs": [
    {
     "name": "stdout",
     "output_type": "stream",
     "text": [
      "No missing ensembles.\n",
      "No extra ensembles.\n"
     ]
    }
   ],
   "source": [
    "# Load initial trajectory from external files\n",
    "init_traj = ops_load_trajectory(r'./data/init_paths/CLN_md/md_1us.xtc', top=r'./data/init_paths/CLN_md/nvt.gro')\n",
    "initial_conditions = scheme.initial_conditions_from_trajectories(init_traj)"
   ]
  },
  {
   "cell_type": "code",
   "execution_count": 10,
   "id": "c2d8d00d-4a0a-4a39-94ce-321529bafb65",
   "metadata": {},
   "outputs": [],
   "source": [
    "storage = paths.Storage(r\"./data/CLN_tps_test.nc\", \"w\", template=init_traj[0])"
   ]
  },
  {
   "cell_type": "code",
   "execution_count": 12,
   "id": "89cc1f6b-d6a6-4a4c-9c0a-62ae56398a79",
   "metadata": {},
   "outputs": [],
   "source": [
    "sampler = paths.PathSampling(storage=storage,\n",
    "                             move_scheme=scheme,\n",
    "                             sample_set=initial_conditions)"
   ]
  },
  {
   "cell_type": "code",
   "execution_count": 13,
   "id": "057dbf2e-bc30-4efb-8c66-f62a163b75b9",
   "metadata": {
    "tags": []
   },
   "outputs": [
    {
     "name": "stdout",
     "output_type": "stream",
     "text": [
      "Working on Monte Carlo cycle number 50\n",
      "Running for 12 seconds -  0.26 seconds per step\n",
      "Estimated time remaining: 0 seconds\n",
      "DONE! Completed 50 Monte Carlo cycles.\n"
     ]
    }
   ],
   "source": [
    "sampler.run(50)"
   ]
  },
  {
   "cell_type": "code",
   "execution_count": 14,
   "id": "a9ec2f4d-2601-4a9b-b851-3cbdf9913dc4",
   "metadata": {},
   "outputs": [],
   "source": [
    "storage.close()"
   ]
  },
  {
   "cell_type": "code",
   "execution_count": 15,
   "id": "3f6ec7f2-4692-408a-a58e-5f0684390b7c",
   "metadata": {},
   "outputs": [],
   "source": [
    "storage = paths.AnalysisStorage(r\"./data/CLN_tps_test.nc\")"
   ]
  },
  {
   "cell_type": "code",
   "execution_count": 16,
   "id": "245d237b-a036-4d41-ab54-5a873dca3e97",
   "metadata": {},
   "outputs": [
    {
     "data": {
      "application/vnd.jupyter.widget-view+json": {
       "model_id": "bda9dddbcf784d5aa058a204456ae839",
       "version_major": 2,
       "version_minor": 0
      },
      "text/plain": [
       "  0%|          | 0/51 [00:00<?, ?it/s]"
      ]
     },
     "metadata": {},
     "output_type": "display_data"
    },
    {
     "name": "stdout",
     "output_type": "stream",
     "text": [
      "shooting ran 100.000% (expected 100.00%) of the cycles with acceptance 0/50 (0.00%)\n"
     ]
    }
   ],
   "source": [
    "scheme = storage.schemes[0]  # only one in there\n",
    "scheme.move_summary(storage.steps)"
   ]
  },
  {
   "cell_type": "code",
   "execution_count": 23,
   "id": "9caef8e5-a401-4b16-afbf-be618eb2413e",
   "metadata": {},
   "outputs": [
    {
     "data": {
      "image/svg+xml": [
       "<svg xmlns=\"http://www.w3.org/2000/svg\" xmlns:ev=\"http://www.w3.org/2001/xml-events\" xmlns:xlink=\"http://www.w3.org/1999/xlink\" baseProfile=\"full\" class=\"opstree\" height=\"100%\" id=\"pathtree-0\" version=\"1.1\" viewBox=\"-80.00 -22.50 179.00 45.00\" width=\"100%\"><defs><style type=\"text/css\"><![CDATA[.opstree text, .movetree text {\n",
       "    alignment-baseline: central;\n",
       "    font-size: 10px;\n",
       "    text-anchor: middle;\n",
       "    font-family: Futura-CondensedMedium;\n",
       "    font-weight: lighter;\n",
       "    stroke: none !important;\n",
       "}\n",
       ".opstree .block text, .movetree .block text {\n",
       "    alignment-baseline: central;\n",
       "    font-size: 8px;\n",
       "    text-anchor: middle;\n",
       "    font-family: Futura-CondensedMedium;\n",
       "    font-weight: lighter;\n",
       "    stroke: none !important;\n",
       "}\n",
       ".opstree text.shadow {\n",
       "    stroke-width: 3;\n",
       "    stroke: white !important;\n",
       "}\n",
       ".opstree .left.label .shift text {\n",
       "    text-anchor: end;\n",
       "}\n",
       ".opstree .right.label .shift text {\n",
       "    text-anchor: start;\n",
       "}\n",
       ".opstree .block text, .movetree .block text {\n",
       "    fill: white !important;\n",
       "    stroke: none !important;\n",
       "}\n",
       ".opstree .block {\n",
       "    stroke: none !important;\n",
       "}\n",
       ".opstree g.block:hover rect {\n",
       "    opacity: 0.5;\n",
       "}\n",
       ".opstree .repex {\n",
       "    fill: green;\n",
       "    stroke: green;\n",
       "}\n",
       ".opstree .extend {\n",
       "    fill: green;\n",
       "    stroke: green;\n",
       "}\n",
       ".opstree .truncate {\n",
       "    fill: green;\n",
       "    stroke: green;\n",
       "}\n",
       ".opstree .new {\n",
       "    fill: black;\n",
       "    stroke: black;\n",
       "}\n",
       ".opstree .unknown {\n",
       "    fill: gray;\n",
       "    stroke: gray;\n",
       "}\n",
       ".opstree .hop {\n",
       "    fill: green;\n",
       "    stroke: green;\n",
       "}\n",
       ".opstree .correlation {\n",
       "    fill: black;\n",
       "    stroke: black;\n",
       "}\n",
       ".opstree .shooting.bw {\n",
       "    fill: blue;\n",
       "    stroke: blue;\n",
       "}\n",
       ".opstree .shooting.fw {\n",
       "    fill: red;\n",
       "    stroke: red;\n",
       "}\n",
       ".opstree .shooting.overlap {\n",
       "    fill: #666;\n",
       "    stroke: #666;\n",
       "}\n",
       ".opstree .reversal {\n",
       "    fill: gold;\n",
       "    stroke: gold;\n",
       "}\n",
       ".opstree .virtual {\n",
       "    opacity: 0.1;\n",
       "    fill:gray;\n",
       "    stroke: none;\n",
       "}\n",
       ".opstree line {\n",
       "    stroke-width: 2px;\n",
       "}\n",
       ".opstree .label {\n",
       "    fill: black !important;\n",
       "}\n",
       ".opstree .h-connector {\n",
       "    stroke-width: 0.1px;\n",
       "    stroke-dasharray: 3 3;\n",
       "}\n",
       ".opstree .rejected {\n",
       "    opacity: 0.25;\n",
       "}\n",
       ".opstree .level {\n",
       "    opacity: 0.25;\n",
       "}\n",
       ".opstree .orange {\n",
       "    fill: orange;\n",
       "}\n",
       ".tableline {\n",
       "    fill: gray;\n",
       "    opacity: 0.0;\n",
       "}\n",
       ".tableline:hover {\n",
       "    opacity: 0.2;\n",
       "}\n",
       ".opstree .left.label g.shift {\n",
       "    transform: translateX(-6px);\n",
       "}\n",
       ".opstree .right.label g.shift {\n",
       "    transform: translateX(+6px);\n",
       "}\n",
       ".opstree .infobox text {\n",
       "    text-anchor: start;\n",
       "}\n",
       ".opstree .shade {\n",
       "    stroke: none;\n",
       "}\n",
       "\n",
       ".movetree .label .shift {\n",
       "    transform: translateX(-18px);\n",
       "}\n",
       "\n",
       ".movetree .label text {\n",
       "    text-anchor: end;\n",
       "}\n",
       ".movetree .v-connector {\n",
       "    stroke: black;\n",
       "}\n",
       ".movetree .v-hook {\n",
       "    stroke: black;\n",
       "}\n",
       ".movetree .h-connector {\n",
       "    stroke: black;\n",
       "}\n",
       ".movetree .ensembles .head .shift {\n",
       "    transform: translateY(0px) rotate(270deg) ;\n",
       "}\n",
       ".movetree .ensembles .head text {\n",
       "    text-anchor: start;\n",
       "}\n",
       ".movetree .connector.input {\n",
       "    fill: blue;\n",
       "}\n",
       ".movetree .connector.output {\n",
       "    fill: red;\n",
       "}\n",
       ".movetree .unknown {\n",
       "    fill: #aaa;\n",
       "    /*stroke: white;*/\n",
       "}\n",
       "]]></style></defs><g transform=\"scale(1.0)\"><g class=\"tree\" transform=\"translate(37,15)\"><g class=\"trajectory-label\"><g class=\"unknown left label\" transform=\"translate(0,0)\"><g class=\"shift\"><text x=\"0\" y=\"0\">+</text></g></g></g><g class=\"shooting-hooks\"/><g class=\"snapshot-blocks\"><g class=\"unknown new block\"><rect height=\"9.0\" width=\"30.0\" x=\"-2.5\" y=\"-4.5\"/><circle cx=\"27.5\" cy=\"0\" r=\"0.0\"/><text x=\"12.5\" y=\"0\"/></g></g></g><g class=\"legend\"><g class=\"legend-correlation\" transform=\"translate(0)\"><g class=\"head label\" transform=\"translate(0,0)\"><g class=\"shift\"><text x=\"0\" y=\"0\">cor</text></g></g><g class=\"correlation v-region\"><line x1=\"0\" x2=\"0\" y1=\"7.5\" y2=\"22.5\"/><circle cx=\"0\" cy=\"7.5\" r=\"2.24\"/><line x1=\"-6.4\" x2=\"6.4\" y1=\"7.5\" y2=\"7.5\"/><text x=\"-6.4\" y=\"15.0\"/></g></g><g class=\"legend-step\" transform=\"translate(-32)\"><g class=\"head label\" transform=\"translate(0,0)\"><g class=\"shift\"><text x=\"0\" y=\"0\">step</text></g></g><g class=\"label\" transform=\"translate(0,15)\"><g class=\"shift\"><text x=\"0\" y=\"0\">0</text></g></g></g></g><g class=\"hovering-blocks\"><rect class=\"tableline\" height=\"13.5\" width=\"179.0\" x=\"-80.0\" y=\"8.25\"/></g></g></svg>"
      ],
      "text/plain": [
       "<IPython.core.display.SVG object>"
      ]
     },
     "execution_count": 23,
     "metadata": {},
     "output_type": "execute_result"
    }
   ],
   "source": [
    "tree = ops_vis.PathTree(\n",
    "    storage.steps,\n",
    "    ops_vis.ReplicaEvolution(replica=0)\n",
    ")\n",
    "\n",
    "SVG(tree.svg())"
   ]
  },
  {
   "cell_type": "code",
   "execution_count": 22,
   "id": "1236d063-f218-4b9b-ba47-2f3d7872fd5b",
   "metadata": {},
   "outputs": [],
   "source": [
    "import openpathsampling.visualize as ops_vis\n",
    "from IPython.display import SVG"
   ]
  },
  {
   "cell_type": "code",
   "execution_count": null,
   "id": "6f900279-a333-466d-92ed-22527bdd2c0c",
   "metadata": {},
   "outputs": [],
   "source": []
  }
 ],
 "metadata": {
  "kernelspec": {
   "display_name": "Python 3",
   "language": "python",
   "name": "python3"
  },
  "language_info": {
   "codemirror_mode": {
    "name": "ipython",
    "version": 3
   },
   "file_extension": ".py",
   "mimetype": "text/x-python",
   "name": "python",
   "nbconvert_exporter": "python",
   "pygments_lexer": "ipython3",
   "version": "3.8.16"
  }
 },
 "nbformat": 4,
 "nbformat_minor": 5
}

{
 "cells": [
  {
   "cell_type": "code",
   "execution_count": 1,
   "id": "4723a970-5703-44d9-8a4b-71c705836649",
   "metadata": {},
   "outputs": [],
   "source": [
    "%matplotlib inline\n",
    "import matplotlib.pyplot as plt\n",
    "import seaborn as sns\n",
    "import numpy as np\n",
    "\n",
    "from openmm import app\n",
    "import openmm as mm\n",
    "import openmm.unit as unit\n",
    "import openmmtools\n",
    "\n",
    "import openpathsampling as paths\n",
    "import openpathsampling.engines.openmm as ops_openmm\n",
    "from openpathsampling.engines.openmm.tools import ops_load_trajectory\n",
    "import openpathsampling.visualize as ops_vis\n",
    "\n",
    "import mdtraj as md\n",
    "import pyemma as pm\n",
    "\n",
    "from pathlib import Path\n",
    "import os\n",
    "import pickle\n",
    "import pandas \n",
    "from IPython.display import SVG"
   ]
  },
  {
   "cell_type": "code",
   "execution_count": 11,
   "id": "5b4b40a8-895e-40c2-9020-dec611e86c7c",
   "metadata": {},
   "outputs": [
    {
     "data": {
      "text/plain": [
       "False"
      ]
     },
     "execution_count": 11,
     "metadata": {},
     "output_type": "execute_result"
    }
   ],
   "source": [
    "import torch\n",
    "torch.cuda.is_available()"
   ]
  },
  {
   "cell_type": "code",
   "execution_count": 3,
   "id": "59cc19c5-4e33-4d5b-baa1-150529824358",
   "metadata": {},
   "outputs": [],
   "source": [
    "seed = 49587\n",
    "rng = np.random.default_rng(seed)\n",
    "\n",
    "# Paths\n",
    "top_path = './data/CLN/protein.pdb'\n",
    "traj_paths = [str(x) for x in Path(r'./data/CLN').rglob(f'CLN025-0-protein-*.xtc')]\n",
    "md_gro_path = './data/init_paths/CLN_md/nvt.gro'\n",
    "md_top_path = './data/init_paths/CLN_md/topol.top'\n",
    "traj_paths.sort()\n",
    "\n",
    "# MSM parameters\n",
    "f_scheme = 'ca'\n",
    "tica_lag = 3\n",
    "tica_d = 15\n",
    "cluster_n = 469\n",
    "cluster_stride = 1\n",
    "max_iter = 1000\n",
    "msm_lag = 31\n",
    "\n",
    "# PCCA+ parameters\n",
    "n_sets = 2\n",
    "core_membership_cutoff = 0.9"
   ]
  },
  {
   "cell_type": "code",
   "execution_count": null,
   "id": "b0ed7ca2-6646-45f0-879e-a8dd99648007",
   "metadata": {
    "tags": []
   },
   "outputs": [],
   "source": [
    "# MSM\n",
    "ftrajs = []\n",
    "for traj_path in traj_paths:\n",
    "    traj = md.load(traj_path, top=top_path)\n",
    "    ftrajs.append(md.compute_contacts(traj, scheme=f_scheme)[0])\n",
    "ftrajs_cat = np.concatenate(ftrajs)\n",
    "\n",
    "tica_mod = pm.coordinates.tica(ftrajs, lag=tica_lag, dim=tica_d, kinetic_map=True)\n",
    "ttrajs = tica_mod.get_output()\n",
    "\n",
    "kmeans_mod = pm.coordinates.cluster_kmeans(ttrajs, k=cluster_n, max_iter=max_iter, stride=cluster_stride, fixed_seed=seed)\n",
    "dtrajs = kmeans_mod.dtrajs\n",
    "\n",
    "msm = pm.msm.estimate_markov_model(dtrajs, lag=msm_lag)\n",
    "_ = msm.pcca(n_sets)"
   ]
  },
  {
   "cell_type": "code",
   "execution_count": null,
   "id": "f70d39c0-5db1-496a-99b1-47212bc7ebf8",
   "metadata": {},
   "outputs": [],
   "source": [
    "ttrajs_cat = np.concatenate(ttrajs)\n",
    "\n",
    "with sns.plotting_context('paper',font_scale=1.5):\n",
    "    fig, ax = plt.subplots(figsize=(20, 4))\n",
    "    \n",
    "    ax.plot(ttrajs_cat[:,0], lw=0.4, label='IC1')\n",
    "    ax.set_xlim([0, ttrajs_cat.shape[0]])\n",
    "    \n",
    "    for i in range(0, len(ftrajs_cat), 2000):\n",
    "        ax.axvline(i, ls='--', lw=1.5, c='gray', alpha=0.8)"
   ]
  },
  {
   "cell_type": "code",
   "execution_count": null,
   "id": "9ef3b3e6-191a-4bc4-a2ae-5877f3ed2bf5",
   "metadata": {},
   "outputs": [],
   "source": [
    "with sns.plotting_context('paper',font_scale=1.5):\n",
    "    fig, ax = plt.subplots(figsize=(20, 4))\n",
    "    \n",
    "    ax.plot(ttrajs[3][:,0], lw=0.4, label='IC1')\n",
    "    ax.set_xlim([850, 900])"
   ]
  },
  {
   "cell_type": "code",
   "execution_count": null,
   "id": "7fbc2545-6dd8-49da-a234-46682a38794e",
   "metadata": {},
   "outputs": [],
   "source": [
    "# Initial path from md\n",
    "\n",
    "t_traj = md.load(traj_paths[3], top=top_path)\n",
    "transition_traj = t_traj[850:890]\n",
    "transition_traj.superpose(transition_traj[0])\n",
    "transition_traj.save(r'./data/init_paths/CLN_md.xtc')"
   ]
  },
  {
   "cell_type": "code",
   "execution_count": 15,
   "id": "8fdc549c-81bb-4da9-931e-92be9c4fc82c",
   "metadata": {},
   "outputs": [],
   "source": [
    "# Define CVs\n",
    "\n",
    "def tica_cv(snapshot, tica_mod, f_scheme):\n",
    "    f_snapshot = md.compute_contacts(snapshot, scheme=f_scheme)[0]\n",
    "    tica_snapshot = tica_mods.transform(f_snapshot)\n",
    "    return tica_cv\n",
    "\n",
    "tica = paths.FunctionCV(\"tica_cv\", tica_cv, \n",
    "                           tica_mod=tica_mod)\n",
    "\n",
    "# Import libraries again as the function can't access global variables\n",
    "def pcca_cv(snapshot, tica_mod, kmeans_mod, msm, f_scheme):\n",
    "    import openpathsampling as paths\n",
    "    import mdtraj as md\n",
    "    traj = paths.engines.Trajectory([snapshot]).to_mdtraj()\n",
    "    f_traj = md.compute_contacts(traj, scheme=f_scheme)[0]\n",
    "    tica_traj = tica_mod.transform(f_traj)\n",
    "    microstate = kmeans_mod.assign(tica_traj)\n",
    "    pcca = msm.metastable_memberships[microstate].flatten()\n",
    "    return pcca[0]\n",
    "\n",
    "pcca = paths.FunctionCV(\"pcca_cv\", pcca_cv, \n",
    "                        tica_mod=tica_mod,\n",
    "                        kmeans_mod=kmeans_mod,\n",
    "                        msm=msm,\n",
    "                        cv_time_reversible=True,\n",
    "                        f_scheme=f_scheme)"
   ]
  },
  {
   "cell_type": "code",
   "execution_count": 16,
   "id": "9810fbde-5035-42d5-9bbc-a2f0967fbc93",
   "metadata": {},
   "outputs": [],
   "source": [
    "# Define metastable states hypervolumes\n",
    "pcca_0_vol = paths.volume.CVDefinedVolume(pcca, lambda_min=0.95, lambda_max=1.00)\n",
    "pcca_1_vol = paths.volume.CVDefinedVolume(pcca, lambda_min=0.00, lambda_max=0.05)"
   ]
  },
  {
   "cell_type": "code",
   "execution_count": 17,
   "id": "6b1a2a85-908f-4b8a-8931-b46d9ff1d6a7",
   "metadata": {},
   "outputs": [],
   "source": [
    "gro = app.GromacsGroFile(md_gro_path)\n",
    "# Gmx topology only stores reference to ff definitions. Need to specifty the directory contains ff files.\n",
    "top = app.GromacsTopFile(md_top_path, \n",
    "                         periodicBoxVectors=gro.getPeriodicBoxVectors(),\n",
    "                         includeDir=r'/home/rzhu/Loc/gromacs/share/gromacs/top')\n",
    "\n",
    "# Create system from gmx files\n",
    "system = top.createSystem(nonbondedMethod=app.PME, \n",
    "                          nonbondedCutoff=1.0*unit.nanometers,\n",
    "                          constraints=app.HBonds, \n",
    "                          rigidWater=True,\n",
    "                          ewaldErrorTolerance=0.0005)\n",
    "\n",
    "# Velocity-Verlet with Velocity Randomisation Integrator that simulates Langvein dynamics\n",
    "integrator = openmmtools.integrators.VVVRIntegrator(\n",
    "    # Temperature\n",
    "    340*unit.kelvin,\n",
    "    # Collision rate (temperature coupling time constant)\n",
    "    1.0/unit.picoseconds,\n",
    "    # Timestep\n",
    "    2.0*unit.femtoseconds\n",
    ")\n",
    "integrator.setConstraintTolerance(0.00001)"
   ]
  },
  {
   "cell_type": "code",
   "execution_count": null,
   "id": "aa352f16-60ee-4233-af3b-c0685b4a40d3",
   "metadata": {},
   "outputs": [],
   "source": [
    "# in case i want to run simulations in open mm\n",
    "simulation = app.Simulation(top.topology, system, integrator)\n",
    "simulation.context.setPositions(gro.positions)\n",
    "simulation.reporters.append(app.PDBReporter('output.pdb', 1000))\n",
    "simulation.minimizeEnergy()"
   ]
  },
  {
   "cell_type": "code",
   "execution_count": 18,
   "id": "0f485252-b3d5-4848-9b81-1adfbffb0f41",
   "metadata": {},
   "outputs": [],
   "source": [
    "openmm_properties = {}\n",
    "engine_options = {\n",
    "    # Maximal frames per trajectory 100 ns\n",
    "    'n_frames_max': 100000,\n",
    "    # Time interval between frames = 1 ps\n",
    "    'n_steps_per_frame': 500\n",
    "}\n",
    "ops_topology = ops_openmm.tools.topology_from_pdb(md_gro_path)\n",
    "engine = ops_openmm.Engine(\n",
    "    topology=ops_topology, \n",
    "    system=system, \n",
    "    integrator=integrator, \n",
    "    openmm_properties=openmm_properties,\n",
    "    options=engine_options\n",
    ").named('CLN_Openmm_engine')"
   ]
  },
  {
   "cell_type": "code",
   "execution_count": 19,
   "id": "f4bcb3a6-588f-4e62-b94a-0fc1746ba873",
   "metadata": {},
   "outputs": [],
   "source": [
    "# Define the path ensemble to be sampled from\n",
    "network = paths.TPSNetwork(initial_states=pcca_0_vol, final_states=pcca_1_vol)\n",
    "# Define shooting scheme. A shooting move scheme can contains multiple shooting strategies \n",
    "scheme = paths.OneWayShootingMoveScheme(network=network, \n",
    "                                        selector=paths.UniformSelector(),\n",
    "                                        engine=engine).named(\"CLN_scheme\")"
   ]
  },
  {
   "cell_type": "code",
   "execution_count": 20,
   "id": "7e0465ac-0db3-499f-bc45-ed4175452317",
   "metadata": {},
   "outputs": [],
   "source": [
    "md_path = r'./data/init_paths/CLN_md/'"
   ]
  },
  {
   "cell_type": "code",
   "execution_count": 21,
   "id": "312b64d4-8a08-42d8-a2ab-a1ef0a72a3f1",
   "metadata": {},
   "outputs": [],
   "source": [
    "from openpathsampling.engines.openmm import trajectory_from_mdtraj\n",
    "init_traj=trajectory_from_mdtraj(md.load(os.path.join(md_path, 'trans.pdb')))"
   ]
  },
  {
   "cell_type": "code",
   "execution_count": 22,
   "id": "cd384b74-12d4-4052-ae5d-61ed33b901d5",
   "metadata": {},
   "outputs": [
    {
     "name": "stdout",
     "output_type": "stream",
     "text": [
      "No missing ensembles.\n",
      "No extra ensembles.\n"
     ]
    }
   ],
   "source": [
    "# Load initial trajectory from external files\n",
    "#init_traj = ops_load_trajectory(r'./data/init_paths/CLN_md/md_1us.xtc', top=r'./data/init_paths/CLN_md/nvt.gro')\n",
    "#init_traj = ops_load_trajectory(os.path.join(md_path, 'trans.xtc'), top=os.path.join(md_path, 'nvt.gro'))\n",
    "initial_conditions = scheme.initial_conditions_from_trajectories(init_traj)"
   ]
  },
  {
   "cell_type": "code",
   "execution_count": null,
   "id": "c2d8d00d-4a0a-4a39-94ce-321529bafb65",
   "metadata": {},
   "outputs": [],
   "source": [
    "storage = paths.Storage(r\"./data/CLN_tps_test.nc\", \"w\", template=init_traj[0])"
   ]
  },
  {
   "cell_type": "code",
   "execution_count": null,
   "id": "89cc1f6b-d6a6-4a4c-9c0a-62ae56398a79",
   "metadata": {},
   "outputs": [],
   "source": [
    "sampler = paths.PathSampling(storage=storage,\n",
    "                             move_scheme=scheme,\n",
    "                             sample_set=initial_conditions)"
   ]
  },
  {
   "cell_type": "code",
   "execution_count": null,
   "id": "057dbf2e-bc30-4efb-8c66-f62a163b75b9",
   "metadata": {
    "tags": []
   },
   "outputs": [],
   "source": [
    "sampler.run(50)"
   ]
  },
  {
   "cell_type": "code",
   "execution_count": null,
   "id": "a9ec2f4d-2601-4a9b-b851-3cbdf9913dc4",
   "metadata": {},
   "outputs": [],
   "source": [
    "storage.close()"
   ]
  },
  {
   "cell_type": "code",
   "execution_count": null,
   "id": "3f6ec7f2-4692-408a-a58e-5f0684390b7c",
   "metadata": {},
   "outputs": [],
   "source": [
    "storage = paths.AnalysisStorage(r\"./data/CLN_tps_test.nc\")"
   ]
  },
  {
   "cell_type": "code",
   "execution_count": null,
   "id": "245d237b-a036-4d41-ab54-5a873dca3e97",
   "metadata": {},
   "outputs": [],
   "source": [
    "scheme = storage.schemes[0]  # only one in there\n",
    "scheme.move_summary(storage.steps)"
   ]
  },
  {
   "cell_type": "code",
   "execution_count": null,
   "id": "9caef8e5-a401-4b16-afbf-be618eb2413e",
   "metadata": {},
   "outputs": [],
   "source": [
    "tree = ops_vis.PathTree(\n",
    "    storage.steps,\n",
    "    ops_vis.ReplicaEvolution(replica=0)\n",
    ")\n",
    "\n",
    "SVG(tree.svg())"
   ]
  },
  {
   "cell_type": "code",
   "execution_count": null,
   "id": "1236d063-f218-4b9b-ba47-2f3d7872fd5b",
   "metadata": {},
   "outputs": [],
   "source": [
    "import openpathsampling.visualize as ops_vis\n",
    "from IPython.display import SVG"
   ]
  },
  {
   "cell_type": "code",
   "execution_count": null,
   "id": "6f900279-a333-466d-92ed-22527bdd2c0c",
   "metadata": {},
   "outputs": [],
   "source": []
  }
 ],
 "metadata": {
  "kernelspec": {
   "display_name": "Python 3 (ipykernel)",
   "language": "python",
   "name": "python3"
  },
  "language_info": {
   "codemirror_mode": {
    "name": "ipython",
    "version": 3
   },
   "file_extension": ".py",
   "mimetype": "text/x-python",
   "name": "python",
   "nbconvert_exporter": "python",
   "pygments_lexer": "ipython3",
   "version": "3.8.16"
  }
 },
 "nbformat": 4,
 "nbformat_minor": 5
}

{
 "cells": [
  {
   "cell_type": "code",
   "execution_count": 4,
   "id": "4723a970-5703-44d9-8a4b-71c705836649",
   "metadata": {},
   "outputs": [],
   "source": [
    "%matplotlib inline\n",
    "import matplotlib.pyplot as plt\n",
    "import numpy as np\n",
    "\n",
    "from openmm import app\n",
    "import openmm as mm\n",
    "import openmm.unit as unit\n",
    "import openmmtools\n",
    "\n",
    "import openpathsampling as paths\n",
    "import openpathsampling.engines.openmm as ops_openmm\n",
    "\n",
    "import mdtraj as md\n",
    "import pyemma as pe\n",
    "\n",
    "from pathlib import Path\n",
    "import os\n",
    "import pickle\n",
    "import pandas "
   ]
  },
  {
   "cell_type": "code",
   "execution_count": null,
   "id": "b0ed7ca2-6646-45f0-879e-a8dd99648007",
   "metadata": {},
   "outputs": [],
   "source": [
    "# Forcefield, system, md engine, integrator \n"
   ]
  },
  {
   "cell_type": "code",
   "execution_count": null,
   "id": "9810fbde-5035-42d5-9bbc-a2f0967fbc93",
   "metadata": {},
   "outputs": [],
   "source": [
    "# Define metastable state using hypervolume"
   ]
  },
  {
   "cell_type": "code",
   "execution_count": null,
   "id": "f4bcb3a6-588f-4e62-b94a-0fc1746ba873",
   "metadata": {},
   "outputs": [],
   "source": [
    "# Define reaction network and shoot mover"
   ]
  },
  {
   "cell_type": "code",
   "execution_count": null,
   "id": "8e03c7e9-c4e6-4763-876b-aa63c248b8f9",
   "metadata": {},
   "outputs": [],
   "source": [
    "# Get an initial trajectory "
   ]
  },
  {
   "cell_type": "code",
   "execution_count": 6,
   "id": "d09def66-d5e3-43b8-bb3a-6736643513d1",
   "metadata": {},
   "outputs": [
    {
     "data": {
      "text/plain": [
       "<module 'molearn' (namespace)>"
      ]
     },
     "execution_count": 6,
     "metadata": {},
     "output_type": "execute_result"
    }
   ],
   "source": [
    "molearn"
   ]
  },
  {
   "cell_type": "code",
   "execution_count": 7,
   "id": "d72a7456-8531-4f3c-b3f3-20c49f64f99b",
   "metadata": {},
   "outputs": [
    {
     "data": {
      "text/plain": [
       "\u001b[0;31mType:\u001b[0m        module\n",
       "\u001b[0;31mString form:\u001b[0m <module 'molearn' (namespace)>\n",
       "\u001b[0;31mDocstring:\u001b[0m   <no docstring>"
      ]
     },
     "metadata": {},
     "output_type": "display_data"
    }
   ],
   "source": [
    "? molearn"
   ]
  },
  {
   "cell_type": "code",
   "execution_count": null,
   "id": "cd384b74-12d4-4052-ae5d-61ed33b901d5",
   "metadata": {},
   "outputs": [],
   "source": []
  }
 ],
 "metadata": {
  "kernelspec": {
   "display_name": "Python 3",
   "language": "python",
   "name": "python3"
  },
  "language_info": {
   "codemirror_mode": {
    "name": "ipython",
    "version": 3
   },
   "file_extension": ".py",
   "mimetype": "text/x-python",
   "name": "python",
   "nbconvert_exporter": "python",
   "pygments_lexer": "ipython3",
   "version": "3.8.16"
  }
 },
 "nbformat": 4,
 "nbformat_minor": 5
}
